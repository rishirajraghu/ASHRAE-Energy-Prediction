{
  "nbformat": 4,
  "nbformat_minor": 0,
  "metadata": {
    "colab": {
      "name": "ASHRAE_Energy_Prediction",
      "provenance": [],
      "collapsed_sections": [],
      "machine_shape": "hm",
      "include_colab_link": true
    },
    "kernelspec": {
      "name": "python3",
      "display_name": "Python 3"
    },
    "accelerator": "GPU"
  },
  "cells": [
    {
      "cell_type": "markdown",
      "metadata": {
        "id": "view-in-github",
        "colab_type": "text"
      },
      "source": [
        "<a href=\"https://colab.research.google.com/github/rishirajraghu/ASHRAE-Energy-Prediction/blob/master/ASHRAE_Energy_Prediction.ipynb\" target=\"_parent\"><img src=\"https://colab.research.google.com/assets/colab-badge.svg\" alt=\"Open In Colab\"/></a>"
      ]
    },
    {
      "cell_type": "code",
      "metadata": {
        "id": "jjnyd5pKB5Mo",
        "colab_type": "code",
        "colab": {}
      },
      "source": [
        "import pandas  as pd\n",
        "import numpy as np\n",
        "\n",
        "import  matplotlib.pyplot as plt\n",
        "%matplotlib inline\n",
        "import os\n",
        "import datetime"
      ],
      "execution_count": 0,
      "outputs": []
    },
    {
      "cell_type": "code",
      "metadata": {
        "id": "KFPmXgs3CVRA",
        "colab_type": "code",
        "colab": {}
      },
      "source": [
        "#os.environ['KAGGLE_USERNAME'] = \"rishirajraghu\" \n",
        "#os.environ['KAGGLE_KEY'] = \"2c37b06f229fefc0b83f112f97734564\"\n",
        "\n",
        "#!kaggle competitions download -c ashrae-energy-prediction\n",
        "#!unzip \"*zip\""
      ],
      "execution_count": 0,
      "outputs": []
    },
    {
      "cell_type": "code",
      "metadata": {
        "id": "ilIDGJnlDn-P",
        "colab_type": "code",
        "colab": {}
      },
      "source": [
        "train = pd.read_csv('train.csv')\n",
        "test  = pd.read_csv('test.csv')"
      ],
      "execution_count": 0,
      "outputs": []
    },
    {
      "cell_type": "code",
      "metadata": {
        "id": "VcREFV-iIh_W",
        "colab_type": "code",
        "colab": {}
      },
      "source": [
        "train['date'] = pd.to_datetime(train['timestamp'])\n",
        "train['year'] = train['date'].dt.year\n",
        "train['month'] = train['date'].dt.month\n",
        "train['day'] = train['date'].dt.day\n",
        "train['hour'] = train['date'].dt.hour\n",
        "train['min'] = train['date'].dt.minute\n",
        "train['sec'] = train['date'].dt.second\n",
        "\n",
        "test['date'] = pd.to_datetime(test['timestamp'])\n",
        "test['year'] = test['date'].dt.year\n",
        "test['month'] = test['date'].dt.month\n",
        "test['day'] = test['date'].dt.day\n",
        "test['hour'] = test['date'].dt.hour\n",
        "test['min'] = test['date'].dt.minute\n",
        "test['sec'] = test['date'].dt.second\n",
        "\n"
      ],
      "execution_count": 0,
      "outputs": []
    },
    {
      "cell_type": "code",
      "metadata": {
        "id": "s9sg4w-8rNKz",
        "colab_type": "code",
        "outputId": "98725851-7525-48b7-c90a-86c37dd8db3b",
        "colab": {
          "base_uri": "https://localhost:8080/",
          "height": 195
        }
      },
      "source": [
        "train = train.drop(['date','timestamp'],axis = 1)\n",
        "test = test.drop(['date','timestamp'],axis = 1)\n",
        "\n",
        "X = train.drop('meter_reading',axis = 1)\n",
        "y = train['meter_reading']\n",
        "\n",
        "train.head()"
      ],
      "execution_count": 5,
      "outputs": [
        {
          "output_type": "execute_result",
          "data": {
            "text/html": [
              "<div>\n",
              "<style scoped>\n",
              "    .dataframe tbody tr th:only-of-type {\n",
              "        vertical-align: middle;\n",
              "    }\n",
              "\n",
              "    .dataframe tbody tr th {\n",
              "        vertical-align: top;\n",
              "    }\n",
              "\n",
              "    .dataframe thead th {\n",
              "        text-align: right;\n",
              "    }\n",
              "</style>\n",
              "<table border=\"1\" class=\"dataframe\">\n",
              "  <thead>\n",
              "    <tr style=\"text-align: right;\">\n",
              "      <th></th>\n",
              "      <th>building_id</th>\n",
              "      <th>meter</th>\n",
              "      <th>meter_reading</th>\n",
              "      <th>year</th>\n",
              "      <th>month</th>\n",
              "      <th>day</th>\n",
              "      <th>hour</th>\n",
              "      <th>min</th>\n",
              "      <th>sec</th>\n",
              "    </tr>\n",
              "  </thead>\n",
              "  <tbody>\n",
              "    <tr>\n",
              "      <th>0</th>\n",
              "      <td>0</td>\n",
              "      <td>0</td>\n",
              "      <td>0.0</td>\n",
              "      <td>2016</td>\n",
              "      <td>1</td>\n",
              "      <td>1</td>\n",
              "      <td>0</td>\n",
              "      <td>0</td>\n",
              "      <td>0</td>\n",
              "    </tr>\n",
              "    <tr>\n",
              "      <th>1</th>\n",
              "      <td>1</td>\n",
              "      <td>0</td>\n",
              "      <td>0.0</td>\n",
              "      <td>2016</td>\n",
              "      <td>1</td>\n",
              "      <td>1</td>\n",
              "      <td>0</td>\n",
              "      <td>0</td>\n",
              "      <td>0</td>\n",
              "    </tr>\n",
              "    <tr>\n",
              "      <th>2</th>\n",
              "      <td>2</td>\n",
              "      <td>0</td>\n",
              "      <td>0.0</td>\n",
              "      <td>2016</td>\n",
              "      <td>1</td>\n",
              "      <td>1</td>\n",
              "      <td>0</td>\n",
              "      <td>0</td>\n",
              "      <td>0</td>\n",
              "    </tr>\n",
              "    <tr>\n",
              "      <th>3</th>\n",
              "      <td>3</td>\n",
              "      <td>0</td>\n",
              "      <td>0.0</td>\n",
              "      <td>2016</td>\n",
              "      <td>1</td>\n",
              "      <td>1</td>\n",
              "      <td>0</td>\n",
              "      <td>0</td>\n",
              "      <td>0</td>\n",
              "    </tr>\n",
              "    <tr>\n",
              "      <th>4</th>\n",
              "      <td>4</td>\n",
              "      <td>0</td>\n",
              "      <td>0.0</td>\n",
              "      <td>2016</td>\n",
              "      <td>1</td>\n",
              "      <td>1</td>\n",
              "      <td>0</td>\n",
              "      <td>0</td>\n",
              "      <td>0</td>\n",
              "    </tr>\n",
              "  </tbody>\n",
              "</table>\n",
              "</div>"
            ],
            "text/plain": [
              "   building_id  meter  meter_reading  year  month  day  hour  min  sec\n",
              "0            0      0            0.0  2016      1    1     0    0    0\n",
              "1            1      0            0.0  2016      1    1     0    0    0\n",
              "2            2      0            0.0  2016      1    1     0    0    0\n",
              "3            3      0            0.0  2016      1    1     0    0    0\n",
              "4            4      0            0.0  2016      1    1     0    0    0"
            ]
          },
          "metadata": {
            "tags": []
          },
          "execution_count": 5
        }
      ]
    },
    {
      "cell_type": "code",
      "metadata": {
        "id": "SE1iH_LWPiue",
        "colab_type": "code",
        "colab": {}
      },
      "source": [
        "from sklearn.model_selection import train_test_split\n",
        "from xgboost import XGBClassifier\n",
        "\n",
        "X_train,X_test,y_train,y_train = train_test_split(X,y,test_size = 0.3,random_state = 101)\n"
      ],
      "execution_count": 0,
      "outputs": []
    },
    {
      "cell_type": "code",
      "metadata": {
        "id": "smsNkIeZhxr7",
        "colab_type": "code",
        "colab": {}
      },
      "source": [
        "xgb = XGBClassifier()\n",
        "xgb.fit(X_train,y_train)"
      ],
      "execution_count": 0,
      "outputs": []
    },
    {
      "cell_type": "code",
      "metadata": {
        "id": "tghfZGsJkV4A",
        "colab_type": "code",
        "outputId": "ae59c4e6-8f3d-4aa8-fa51-9690af2e3ff6",
        "colab": {
          "base_uri": "https://localhost:8080/",
          "height": 961
        }
      },
      "source": [
        "import json\n",
        "\n",
        "with open(\"/var/log/colab-jupyter.log\", \"r\") as fo:\n",
        "  for line in fo:\n",
        "    print(json.loads(line)['msg'])"
      ],
      "execution_count": 1,
      "outputs": [
        {
          "output_type": "stream",
          "text": [
            "/usr/local/lib/python2.7/dist-packages/IPython/utils/traitlets.py:5: UserWarning: IPython.utils.traitlets has moved to a top-level traitlets package.\n",
            "  warn(\"IPython.utils.traitlets has moved to a top-level traitlets package.\")\n",
            "Writing notebook server cookie secret to /root/.local/share/jupyter/runtime/notebook_cookie_secret\n",
            "google.colab serverextension initialized.\n",
            "Serving notebooks from local directory: /\n",
            "0 active kernels\n",
            "The Jupyter Notebook is running at:\n",
            "http://172.28.0.2:9000/\n",
            "Use Control-C to stop this server and shut down all kernels (twice to skip confirmation).\n",
            "Kernel started: 2d3b2776-ece7-423d-b2fc-16fd2f40d6a5\n",
            "Adapting to protocol v5.1 for kernel 2d3b2776-ece7-423d-b2fc-16fd2f40d6a5\n",
            "tcmalloc: large alloc 1293836288 bytes == 0x16bd0e000 @  0x7fdf7bd6b1e7 0x7fdf73d96d51 0x7fdf73dfba84 0x7fdf73dfbbc3 0x7fdf73e9bade 0x7fdf73e9c344 0x7fdf73e9c492 0x50abc5 0x50c549 0x509ce8 0x50aa1d 0x50c549 0x5081d5 0x50a020 0x50aa1d 0x50d320 0x509ce8 0x50aa1d 0x50c549 0x509ce8 0x50aa1d 0x50c549 0x509ce8 0x50aa1d 0x50c549 0x5081d5 0x50a020 0x50aa1d 0x50c549 0x509ce8 0x50aa1d\n",
            "tcmalloc: large alloc 1293836288 bytes == 0x1c0b90000 @  0x7fdf7bd6b1e7 0x7fdf73d96d51 0x7fdf73dfba84 0x7fdf73dfbbc3 0x7fdf73e8918a 0x7fdf73e895d8 0x50c81e 0x5081d5 0x50a020 0x50aa1d 0x50d320 0x509ce8 0x50aa1d 0x50c549 0x509ce8 0x50aa1d 0x50c549 0x509ce8 0x50aa1d 0x50c549 0x5081d5 0x50a020 0x50aa1d 0x50c549 0x509ce8 0x50aa1d 0x50c549 0x5081d5 0x50a020 0x50aa1d 0x50c549\n",
            "tcmalloc: large alloc 3002228736 bytes == 0x25af5c000 @  0x7fdf7bd6b1e7 0x7fdf73d96d51 0x7fdf73dfba84 0x7fdf73dfbbc3 0x7fdf73e9bade 0x7fdf73e9c344 0x7fdf73e9c492 0x50abc5 0x50c549 0x509ce8 0x50aa1d 0x50c549 0x5081d5 0x50a020 0x50aa1d 0x50d320 0x509ce8 0x50aa1d 0x50c549 0x509ce8 0x50aa1d 0x50c549 0x509ce8 0x50aa1d 0x50c549 0x5081d5 0x50a020 0x50aa1d 0x50c549 0x509ce8 0x50aa1d\n",
            "tcmalloc: large alloc 3002228736 bytes == 0x30de82000 @  0x7fdf7bd6b1e7 0x7fdf73d96d51 0x7fdf73dfba84 0x7fdf73dfbbc3 0x7fdf73e8918a 0x7fdf73e895d8 0x50c81e 0x5081d5 0x50a020 0x50aa1d 0x50d320 0x509ce8 0x50aa1d 0x50c549 0x509ce8 0x50aa1d 0x50c549 0x509ce8 0x50aa1d 0x50c549 0x5081d5 0x50a020 0x50aa1d 0x50c549 0x509ce8 0x50aa1d 0x50c549 0x5081d5 0x50a020 0x50aa1d 0x50c549\n",
            "tcmalloc: large alloc 3002228736 bytes == 0x25af5c000 @  0x7fdf7bd6b1e7 0x7fdf73d96d51 0x7fdf73dfba84 0x7fdf73dfc077 0x7fdf73e95f38 0x50abc5 0x50d320 0x5081d5 0x50a020 0x50aa1d 0x50d320 0x5081d5 0x50a020 0x50aa1d 0x50d320 0x5081d5 0x50a020 0x50aa1d 0x50d320 0x5081d5 0x50a020 0x50aa1d 0x50d320 0x5081d5 0x50a020 0x50aa1d 0x50d320 0x5081d5 0x50a020 0x50aa1d 0x50c549\n",
            "Kernel interrupted: 2d3b2776-ece7-423d-b2fc-16fd2f40d6a5\n",
            "Kernel interrupted: 2d3b2776-ece7-423d-b2fc-16fd2f40d6a5\n",
            "tcmalloc: large alloc 3002228736 bytes == 0x4181b6000 @  0x7fdf7bd6b1e7 0x7fdf73d96d51 0x7fdf73dfba84 0x7fdf73dfbbc3 0x7fdf73e9bade 0x7fdf73e9c344 0x7fdf73e9c492 0x50abc5 0x50c549 0x509ce8 0x50aa1d 0x50c549 0x5081d5 0x50a020 0x50aa1d 0x50d320 0x509ce8 0x50aa1d 0x50c549 0x509ce8 0x50aa1d 0x50c549 0x509ce8 0x50aa1d 0x50c549 0x5081d5 0x50a020 0x50aa1d 0x50c549 0x509ce8 0x50aa1d\n",
            "tcmalloc: large alloc 3002228736 bytes == 0x4cb0dc000 @  0x7fdf7bd6b1e7 0x7fdf73d96d51 0x7fdf73dfba84 0x7fdf73dfbbc3 0x7fdf73e8918a 0x7fdf73e895d8 0x50c81e 0x5081d5 0x50a020 0x50aa1d 0x50d320 0x509ce8 0x50aa1d 0x50c549 0x509ce8 0x50aa1d 0x50c549 0x509ce8 0x50aa1d 0x50c549 0x5081d5 0x50a020 0x50aa1d 0x50c549 0x509ce8 0x50aa1d 0x50c549 0x5081d5 0x50a020 0x50aa1d 0x50c549\n",
            "tcmalloc: large alloc 3002228736 bytes == 0x4181b6000 @  0x7fdf7bd6b1e7 0x7fdf73d96d51 0x7fdf73dfba84 0x7fdf73dfc077 0x7fdf73e95f38 0x50abc5 0x50d320 0x5081d5 0x50a020 0x50aa1d 0x50d320 0x5081d5 0x50a020 0x50aa1d 0x50d320 0x5081d5 0x50a020 0x50aa1d 0x50d320 0x5081d5 0x50a020 0x50aa1d 0x50d320 0x5081d5 0x50a020 0x50aa1d 0x50d320 0x5081d5 0x50a020 0x50aa1d 0x50c549\n",
            "KernelRestarter: restarting kernel (1/5), keep random ports\n",
            "WARNING:root:kernel 2d3b2776-ece7-423d-b2fc-16fd2f40d6a5 restarted\n",
            "/usr/local/lib/python3.6/dist-packages/IPython/utils/traitlets.py:5: UserWarning: IPython.utils.traitlets has moved to a top-level traitlets package.\n",
            "  warn(\"IPython.utils.traitlets has moved to a top-level traitlets package.\")\n",
            "Kernel restarted: 2d3b2776-ece7-423d-b2fc-16fd2f40d6a5\n",
            "Kernel interrupted: 2d3b2776-ece7-423d-b2fc-16fd2f40d6a5\n",
            "Kernel interrupted: 2d3b2776-ece7-423d-b2fc-16fd2f40d6a5\n",
            "Kernel interrupted: 2d3b2776-ece7-423d-b2fc-16fd2f40d6a5\n",
            "tcmalloc: large alloc 1293836288 bytes == 0x16c97c000 @  0x7f3cfb2a21e7 0x7f3cf32cdd51 0x7f3cf3332a84 0x7f3cf3332bc3 0x7f3cf33d2ade 0x7f3cf33d3344 0x7f3cf33d3492 0x50abc5 0x50c549 0x509ce8 0x50aa1d 0x50c549 0x5081d5 0x50a020 0x50aa1d 0x50d320 0x509ce8 0x50aa1d 0x50c549 0x509ce8 0x50aa1d 0x50c549 0x509ce8 0x50aa1d 0x50c549 0x5081d5 0x50a020 0x50aa1d 0x50c549 0x509ce8 0x50aa1d\n",
            "tcmalloc: large alloc 1293836288 bytes == 0x1c1776000 @  0x7f3cfb2a21e7 0x7f3cf32cdd51 0x7f3cf3332a84 0x7f3cf3332bc3 0x7f3cf33c018a 0x7f3cf33c05d8 0x50c81e 0x5081d5 0x50a020 0x50aa1d 0x50d320 0x509ce8 0x50aa1d 0x50c549 0x509ce8 0x50aa1d 0x50c549 0x509ce8 0x50aa1d 0x50c549 0x5081d5 0x50a020 0x50aa1d 0x50c549 0x509ce8 0x50aa1d 0x50c549 0x5081d5 0x50a020 0x50aa1d 0x50c549\n",
            "tcmalloc: large alloc 3002228736 bytes == 0x1c1776000 @  0x7f3cfb2a21e7 0x7f3cf32cdd51 0x7f3cf3332a84 0x7f3cf3332bc3 0x7f3cf33d2ade 0x7f3cf33d3344 0x7f3cf33d3492 0x50abc5 0x50c549 0x509ce8 0x50aa1d 0x50c549 0x5081d5 0x50a020 0x50aa1d 0x50d320 0x509ce8 0x50aa1d 0x50c549 0x509ce8 0x50aa1d 0x50c549 0x509ce8 0x50aa1d 0x50c549 0x5081d5 0x50a020 0x50aa1d 0x50c549 0x509ce8 0x50aa1d\n",
            "tcmalloc: large alloc 3002228736 bytes == 0x27469c000 @  0x7f3cfb2a21e7 0x7f3cf32cdd51 0x7f3cf3332a84 0x7f3cf3332bc3 0x7f3cf33c018a 0x7f3cf33c05d8 0x50c81e 0x5081d5 0x50a020 0x50aa1d 0x50d320 0x509ce8 0x50aa1d 0x50c549 0x509ce8 0x50aa1d 0x50c549 0x509ce8 0x50aa1d 0x50c549 0x5081d5 0x50a020 0x50aa1d 0x50c549 0x509ce8 0x50aa1d 0x50c549 0x5081d5 0x50a020 0x50aa1d 0x50c549\n",
            "tcmalloc: large alloc 3002228736 bytes == 0x1c1776000 @  0x7f3cfb2a21e7 0x7f3cf32cdd51 0x7f3cf3332a84 0x7f3cf3333077 0x7f3cf33ccf38 0x50abc5 0x50d320 0x5081d5 0x50a020 0x50aa1d 0x50d320 0x5081d5 0x50a020 0x50aa1d 0x50d320 0x5081d5 0x50a020 0x50aa1d 0x50d320 0x5081d5 0x50a020 0x50aa1d 0x50d320 0x5081d5 0x50a020 0x50aa1d 0x50d320 0x5081d5 0x50a020 0x50aa1d 0x50c549\n",
            "KernelRestarter: restarting kernel (1/5), keep random ports\n",
            "WARNING:root:kernel 2d3b2776-ece7-423d-b2fc-16fd2f40d6a5 restarted\n",
            "Adapting to protocol v5.1 for kernel 2d3b2776-ece7-423d-b2fc-16fd2f40d6a5\n",
            "Adapting to protocol v5.1 for kernel 2d3b2776-ece7-423d-b2fc-16fd2f40d6a5\n",
            "tcmalloc: large alloc 1293836288 bytes == 0x16cae6000 @  0x7f42932761e7 0x7f428b2a1d51 0x7f428b306a84 0x7f428b306bc3 0x7f428b3a6ade 0x7f428b3a7344 0x7f428b3a7492 0x50abc5 0x50c549 0x509ce8 0x50aa1d 0x50c549 0x5081d5 0x50a020 0x50aa1d 0x50d320 0x509ce8 0x50aa1d 0x50c549 0x509ce8 0x50aa1d 0x50c549 0x509ce8 0x50aa1d 0x50c549 0x5081d5 0x50a020 0x50aa1d 0x50c549 0x509ce8 0x50aa1d\n",
            "tcmalloc: large alloc 1293836288 bytes == 0x1c1920000 @  0x7f42932761e7 0x7f428b2a1d51 0x7f428b306a84 0x7f428b306bc3 0x7f428b39418a 0x7f428b3945d8 0x50c81e 0x5081d5 0x50a020 0x50aa1d 0x50d320 0x509ce8 0x50aa1d 0x50c549 0x509ce8 0x50aa1d 0x50c549 0x509ce8 0x50aa1d 0x50c549 0x5081d5 0x50a020 0x50aa1d 0x50c549 0x509ce8 0x50aa1d 0x50c549 0x5081d5 0x50a020 0x50aa1d 0x50c549\n",
            "tcmalloc: large alloc 3002228736 bytes == 0x1c1920000 @  0x7f42932761e7 0x7f428b2a1d51 0x7f428b306a84 0x7f428b306bc3 0x7f428b3a6ade 0x7f428b3a7344 0x7f428b3a7492 0x50abc5 0x50c549 0x509ce8 0x50aa1d 0x50c549 0x5081d5 0x50a020 0x50aa1d 0x50d320 0x509ce8 0x50aa1d 0x50c549 0x509ce8 0x50aa1d 0x50c549 0x509ce8 0x50aa1d 0x50c549 0x5081d5 0x50a020 0x50aa1d 0x50c549 0x509ce8 0x50aa1d\n",
            "tcmalloc: large alloc 3002228736 bytes == 0x274846000 @  0x7f42932761e7 0x7f428b2a1d51 0x7f428b306a84 0x7f428b306bc3 0x7f428b39418a 0x7f428b3945d8 0x50c81e 0x5081d5 0x50a020 0x50aa1d 0x50d320 0x509ce8 0x50aa1d 0x50c549 0x509ce8 0x50aa1d 0x50c549 0x509ce8 0x50aa1d 0x50c549 0x5081d5 0x50a020 0x50aa1d 0x50c549 0x509ce8 0x50aa1d 0x50c549 0x5081d5 0x50a020 0x50aa1d 0x50c549\n",
            "tcmalloc: large alloc 3002228736 bytes == 0x1c1920000 @  0x7f42932761e7 0x7f428b2a1d51 0x7f428b306a84 0x7f428b307077 0x7f428b3a0f38 0x50abc5 0x50d320 0x5081d5 0x50a020 0x50aa1d 0x50d320 0x5081d5 0x50a020 0x50aa1d 0x50d320 0x5081d5 0x50a020 0x50aa1d 0x50d320 0x5081d5 0x50a020 0x50aa1d 0x50d320 0x5081d5 0x50a020 0x50aa1d 0x50d320 0x5081d5 0x50a020 0x50aa1d 0x50c549\n",
            "KernelRestarter: restarting kernel (1/5), keep random ports\n",
            "WARNING:root:kernel 2d3b2776-ece7-423d-b2fc-16fd2f40d6a5 restarted\n",
            "WARNING:root:kernel 2d3b2776-ece7-423d-b2fc-16fd2f40d6a5 restarted\n",
            "WARNING:root:kernel 2d3b2776-ece7-423d-b2fc-16fd2f40d6a5 restarted\n",
            "Adapting to protocol v5.1 for kernel 2d3b2776-ece7-423d-b2fc-16fd2f40d6a5\n",
            "tcmalloc: large alloc 1293836288 bytes == 0x16c36e000 @  0x7f52ee7951e7 0x7f52e67c0d51 0x7f52e6825a84 0x7f52e6825bc3 0x7f52e68c5ade 0x7f52e68c6344 0x7f52e68c6492 0x50abc5 0x50c549 0x509ce8 0x50aa1d 0x50c549 0x5081d5 0x50a020 0x50aa1d 0x50d320 0x509ce8 0x50aa1d 0x50c549 0x509ce8 0x50aa1d 0x50c549 0x509ce8 0x50aa1d 0x50c549 0x5081d5 0x50a020 0x50aa1d 0x50c549 0x509ce8 0x50aa1d\n",
            "tcmalloc: large alloc 1293836288 bytes == 0x1c1298000 @  0x7f52ee7951e7 0x7f52e67c0d51 0x7f52e6825a84 0x7f52e6825bc3 0x7f52e68b318a 0x7f52e68b35d8 0x50c81e 0x5081d5 0x50a020 0x50aa1d 0x50d320 0x509ce8 0x50aa1d 0x50c549 0x509ce8 0x50aa1d 0x50c549 0x509ce8 0x50aa1d 0x50c549 0x5081d5 0x50a020 0x50aa1d 0x50c549 0x509ce8 0x50aa1d 0x50c549 0x5081d5 0x50a020 0x50aa1d 0x50c549\n",
            "tcmalloc: large alloc 3002228736 bytes == 0x1c1298000 @  0x7f52ee7951e7 0x7f52e67c0d51 0x7f52e6825a84 0x7f52e6825bc3 0x7f52e68c5ade 0x7f52e68c6344 0x7f52e68c6492 0x50abc5 0x50c549 0x509ce8 0x50aa1d 0x50c549 0x5081d5 0x50a020 0x50aa1d 0x50d320 0x509ce8 0x50aa1d 0x50c549 0x509ce8 0x50aa1d 0x50c549 0x509ce8 0x50aa1d 0x50c549 0x5081d5 0x50a020 0x50aa1d 0x50c549 0x509ce8 0x50aa1d\n",
            "tcmalloc: large alloc 3002228736 bytes == 0x2741be000 @  0x7f52ee7951e7 0x7f52e67c0d51 0x7f52e6825a84 0x7f52e6825bc3 0x7f52e68b318a 0x7f52e68b35d8 0x50c81e 0x5081d5 0x50a020 0x50aa1d 0x50d320 0x509ce8 0x50aa1d 0x50c549 0x509ce8 0x50aa1d 0x50c549 0x509ce8 0x50aa1d 0x50c549 0x5081d5 0x50a020 0x50aa1d 0x50c549 0x509ce8 0x50aa1d 0x50c549 0x5081d5 0x50a020 0x50aa1d 0x50c549\n",
            "tcmalloc: large alloc 3002228736 bytes == 0x1c1298000 @  0x7f52ee7951e7 0x7f52e67c0d51 0x7f52e6825a84 0x7f52e6826077 0x7f52e68bff38 0x50abc5 0x50d320 0x5081d5 0x50a020 0x50aa1d 0x50d320 0x5081d5 0x50a020 0x50aa1d 0x50d320 0x5081d5 0x50a020 0x50aa1d 0x50d320 0x5081d5 0x50a020 0x50aa1d 0x50d320 0x5081d5 0x50a020 0x50aa1d 0x50d320 0x5081d5 0x50a020 0x50aa1d 0x50c549\n",
            "KernelRestarter: restarting kernel (1/5), keep random ports\n",
            "WARNING:root:kernel 2d3b2776-ece7-423d-b2fc-16fd2f40d6a5 restarted\n"
          ],
          "name": "stdout"
        }
      ]
    },
    {
      "cell_type": "code",
      "metadata": {
        "id": "OP7SUXggyfoo",
        "colab_type": "code",
        "colab": {}
      },
      "source": [
        ""
      ],
      "execution_count": 0,
      "outputs": []
    }
  ]
}